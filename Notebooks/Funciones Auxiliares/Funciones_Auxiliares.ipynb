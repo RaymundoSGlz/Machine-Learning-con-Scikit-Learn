{
 "cells": [
  {
   "cell_type": "code",
   "execution_count": null,
   "metadata": {},
   "outputs": [],
   "source": [
    "def fit_predict_score(model, x_train, y_train, x_test, y_test, metric) -> float:\n",
    "    '''Función que entrena un modelo, predice y devuelve el score de la métrica elegida\n",
    "    Parámetros:\n",
    "    model: modelo a entrenar\n",
    "    x_train: datos de entrenamiento\n",
    "    y_train: etiquetas de entrenamiento\n",
    "    x_test: datos de test\n",
    "    y_test: etiquetas de test\n",
    "    metric: métrica a utilizar para evaluar el modelo\n",
    "    Devuelve:\n",
    "    score: score de la métrica elegida'''\n",
    "    model.fit(x_train, y_train)\n",
    "    y_predict = model.predict(x_test)\n",
    "    score = metric(y_test, y_predict)\n",
    "    return score"
   ]
  }
 ],
 "metadata": {
  "kernelspec": {
   "display_name": "Python 3",
   "language": "python",
   "name": "python3"
  },
  "language_info": {
   "name": "python",
   "version": "3.10.9"
  },
  "orig_nbformat": 4,
  "vscode": {
   "interpreter": {
    "hash": "3ef6e1a8a3224157454c386edfa56ccf69617aaa84c3186f555e7c602618dd7d"
   }
  }
 },
 "nbformat": 4,
 "nbformat_minor": 2
}
