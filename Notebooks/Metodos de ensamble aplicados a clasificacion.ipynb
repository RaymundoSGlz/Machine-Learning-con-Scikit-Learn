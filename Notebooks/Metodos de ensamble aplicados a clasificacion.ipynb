{
 "cells": [
  {
   "cell_type": "code",
   "execution_count": 1,
   "metadata": {},
   "outputs": [],
   "source": [
    "# Importamos las librerías necesarias\n",
    "import pandas as pd\n",
    "\n",
    "from sklearn.neighbors import KNeighborsClassifier\n",
    "from sklearn.ensemble import BaggingClassifier\n",
    "from sklearn.model_selection import train_test_split\n",
    "from sklearn.metrics import accuracy_score"
   ]
  },
  {
   "attachments": {},
   "cell_type": "markdown",
   "metadata": {},
   "source": [
    "# Preparación de datos para implementar métodos de ensamble"
   ]
  },
  {
   "cell_type": "code",
   "execution_count": 2,
   "metadata": {},
   "outputs": [
    {
     "data": {
      "text/plain": [
       "count    1025.000000\n",
       "mean        0.513171\n",
       "std         0.500070\n",
       "min         0.000000\n",
       "25%         0.000000\n",
       "50%         1.000000\n",
       "75%         1.000000\n",
       "max         1.000000\n",
       "Name: target, dtype: float64"
      ]
     },
     "execution_count": 2,
     "metadata": {},
     "output_type": "execute_result"
    }
   ],
   "source": [
    "# Cargamos el dataset\n",
    "df = pd.read_csv('../Data/heart.csv')\n",
    "df['target'].describe()"
   ]
  },
  {
   "cell_type": "code",
   "execution_count": 3,
   "metadata": {},
   "outputs": [],
   "source": [
    "# Extraemos las variables independientes y la variable dependiente\n",
    "X = df.drop(['target'], axis=1)\n",
    "y = df['target']\n",
    "\n",
    "# Dividimos el dataset en train y test\n",
    "X_train, X_test, y_train, y_test = train_test_split(X, y, test_size=0.35)"
   ]
  },
  {
   "attachments": {},
   "cell_type": "markdown",
   "metadata": {},
   "source": [
    "# Implementación de Bagging"
   ]
  },
  {
   "cell_type": "code",
   "execution_count": 4,
   "metadata": {},
   "outputs": [
    {
     "name": "stdout",
     "output_type": "stream",
     "text": [
      "Accuracy KNN:  0.7047353760445683\n",
      "Accuracy KNN con Bagging:  0.7520891364902507\n"
     ]
    }
   ],
   "source": [
    "# Evaluamos las diferencias del modelo KNN con y sin Bagging\n",
    "\n",
    "# KNN sin Bagging\n",
    "knn_class = KNeighborsClassifier().fit(X_train, y_train)\n",
    "knn_pred = knn_class.predict(X_test)\n",
    "print('Accuracy KNN: ', accuracy_score(knn_pred, y_test))\n",
    "\n",
    "# KNN con Bagging\n",
    "knn_bag_class = BaggingClassifier(KNeighborsClassifier(), n_estimators=50).fit(X_train, y_train)\n",
    "knn_bag_pred = knn_bag_class.predict(X_test)\n",
    "print('Accuracy KNN con Bagging: ', accuracy_score(knn_bag_pred, y_test))"
   ]
  },
  {
   "cell_type": "code",
   "execution_count": 7,
   "metadata": {},
   "outputs": [
    {
     "name": "stdout",
     "output_type": "stream",
     "text": [
      "Accuracy LogisticRegression:  0.8495821727019499\n",
      "Accuracy LogisticRegression con Bagging:  0.8495821727019499\n",
      "--------------------------------------------------\n",
      "Accuracy LinearSCV:  0.6935933147632312\n",
      "Accuracy LinearSCV con Bagging:  0.8440111420612814\n",
      "--------------------------------------------------\n",
      "Accuracy SVC:  0.7298050139275766\n",
      "Accuracy SVC con Bagging:  0.7465181058495822\n",
      "--------------------------------------------------\n",
      "Accuracy SGDC:  0.6545961002785515\n",
      "Accuracy SGDC con Bagging:  0.754874651810585\n",
      "--------------------------------------------------\n",
      "Accuracy DecisionTree:  1.0\n",
      "Accuracy DecisionTree con Bagging:  1.0\n",
      "--------------------------------------------------\n"
     ]
    }
   ],
   "source": [
    "# Evaluamos las diferencias de los demás modelos con y sin Bagging\n",
    "from sklearn.svm import LinearSVC, SVC\n",
    "from sklearn.linear_model import SGDClassifier, LogisticRegression\n",
    "from sklearn.tree import DecisionTreeClassifier\n",
    "from warnings import filterwarnings\n",
    "filterwarnings('ignore')\n",
    "\n",
    "# Creamos un diccionario con los modelos a evaluar\n",
    "classifiers = {\n",
    "        'LogisticRegression': LogisticRegression(),\n",
    "        'LinearSCV': LinearSVC(),\n",
    "        'SVC': SVC(),\n",
    "        'SGDC': SGDClassifier(),\n",
    "        'DecisionTree': DecisionTreeClassifier()\n",
    "    }\n",
    "\n",
    "# Iteramos sobre el diccionario para evaluar los modelos\n",
    "for name, classifier in classifiers.items():\n",
    "    # sin Bagging\n",
    "    model_class = classifier.fit(X_train, y_train)\n",
    "    model_pred = model_class.predict(X_test)\n",
    "    print(f'Accuracy {name}: ', accuracy_score(model_pred, y_test))\n",
    "    # con Bagging\n",
    "    model_bag_class = BaggingClassifier(classifier, n_estimators=50).fit(X_train, y_train)\n",
    "    model_bag_pred = model_bag_class.predict(X_test)\n",
    "    print(f'Accuracy {name} con Bagging: ', accuracy_score(model_bag_pred, y_test))\n",
    "    print('-'*50)"
   ]
  },
  {
   "attachments": {},
   "cell_type": "markdown",
   "metadata": {},
   "source": [
    "# Implementación de Boosting"
   ]
  },
  {
   "cell_type": "code",
   "execution_count": 11,
   "metadata": {},
   "outputs": [
    {
     "name": "stdout",
     "output_type": "stream",
     "text": [
      "GradientBoostingClassifier accuracy:  0.9275766016713092\n"
     ]
    }
   ],
   "source": [
    "# Implementamos el modelo de Boosting\n",
    "from sklearn.ensemble import GradientBoostingClassifier\n",
    "\n",
    "boost = GradientBoostingClassifier(n_estimators=50).fit(X_train, y_train)\n",
    "boost_pred = boost.predict(X_test)\n",
    "print('GradientBoostingClassifier accuracy: ', accuracy_score(boost_pred, y_test))"
   ]
  },
  {
   "cell_type": "code",
   "execution_count": 13,
   "metadata": {},
   "outputs": [
    {
     "data": {
      "image/png": "[encoded data removed]",
      "text/plain": [
       "<Figure size 640x480 with 1 Axes>"
      ]
     },
     "metadata": {},
     "output_type": "display_data"
    }
   ],
   "source": [
    "# Graficamos para encontrar el mejor número de estimadores\n",
    "import matplotlib.pyplot as plt\n",
    "\n",
    "# Creamos una lista con los valores de los estimadores\n",
    "estimators = range(10, 200, 10)\n",
    "\n",
    "# Creamos una lista vacía para almacenar los resultados\n",
    "results = []\n",
    "\n",
    "# Iteramos sobre la lista de estimadores\n",
    "for estimator in estimators:\n",
    "    # Creamos el modelo\n",
    "    model = GradientBoostingClassifier(n_estimators=estimator).fit(X_train, y_train)\n",
    "    # Evaluamos el modelo\n",
    "    model_pred = model.predict(X_test)\n",
    "    # Almacenamos el resultado\n",
    "    results.append(accuracy_score(model_pred, y_test))\n",
    "\n",
    "# Graficamos los resultados\n",
    "plt.plot(estimators, results)\n",
    "plt.xlabel('Número de estimadores')\n",
    "plt.ylabel('Accuracy');"
   ]
  }
 ],
 "metadata": {
  "kernelspec": {
   "display_name": "Python 3",
   "language": "python",
   "name": "python3"
  },
  "language_info": {
   "codemirror_mode": {
    "name": "ipython",
    "version": 3
   },
   "file_extension": ".py",
   "mimetype": "text/x-python",
   "name": "python",
   "nbconvert_exporter": "python",
   "pygments_lexer": "ipython3",
   "version": "3.10.9"
  },
  "orig_nbformat": 4,
  "vscode": {
   "interpreter": {
    "hash": "3ef6e1a8a3224157454c386edfa56ccf69617aaa84c3186f555e7c602618dd7d"
   }
  }
 },
 "nbformat": 4,
 "nbformat_minor": 2
}
